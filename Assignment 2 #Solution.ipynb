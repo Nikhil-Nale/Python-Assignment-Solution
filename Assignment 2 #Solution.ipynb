{
 "cells": [
  {
   "cell_type": "markdown",
   "metadata": {},
   "source": [
    "#### Que : Python Program for n-th Fibonacci number"
   ]
  },
  {
   "cell_type": "markdown",
   "metadata": {},
   "source": [
    "Fibonacci series --- a series of numbers in which each number (Fibonacci number) is the sum of the two preceding numbers. The simplest is the series 1, 1, 2, 3, 5, 8, etc."
   ]
  },
  {
   "cell_type": "code",
   "execution_count": 1,
   "metadata": {},
   "outputs": [
    {
     "name": "stdout",
     "output_type": "stream",
     "text": [
      "Enter the number of terms : 10\n",
      "Generating Fibonacci sequence upto  10 : \n",
      "0\n",
      "1\n",
      "1\n",
      "2\n",
      "3\n",
      "5\n",
      "8\n",
      "13\n",
      "21\n",
      "34\n"
     ]
    }
   ],
   "source": [
    "N = int(input(\"Enter the number of terms : \"))\n",
    " \n",
    "# first two terms are f1, f2 equal to 0 and 1 respectively\n",
    "f1, f2 = 0, 1\n",
    "count = 0\n",
    " \n",
    "# checking for invalid inputs\n",
    "if(N <= 0):\n",
    "    print(\"Invalid Input, Kindly enter number greater than 0\")\n",
    " \n",
    "# if only one number in the sequence\n",
    "elif(N == 1):\n",
    "    print(\"Generating Fibonacci Sequence upto \", N, \": \")\n",
    "    print(f1)\n",
    " \n",
    "# for all the other cases, i.e. when N > 1\n",
    "else:\n",
    "    print(\"Generating Fibonacci sequence upto \", N, \": \")\n",
    "    while count < N:\n",
    "        print(f1)\n",
    "        fth = f1 + f2\n",
    "# swapping the values for f1 and f2\n",
    "        f1 = f2\n",
    "        f2 = fth\n",
    "        count += 1"
   ]
  },
  {
   "cell_type": "markdown",
   "metadata": {},
   "source": [
    "#### Que : Python Program for How to check if a given number is Fibonacci number?"
   ]
  },
  {
   "cell_type": "code",
   "execution_count": 2,
   "metadata": {},
   "outputs": [
    {
     "name": "stdout",
     "output_type": "stream",
     "text": [
      "1 is a Fibonacci Number\n",
      "2 is a Fibonacci Number\n",
      "3 is a Fibonacci Number\n",
      "4 is a not Fibonacci Number \n",
      "5 is a Fibonacci Number\n",
      "6 is a not Fibonacci Number \n",
      "7 is a not Fibonacci Number \n",
      "8 is a Fibonacci Number\n",
      "9 is a not Fibonacci Number \n",
      "10 is a not Fibonacci Number \n"
     ]
    }
   ],
   "source": [
    "# python program to check if x is a perfect square\n",
    "import math\n",
    " \n",
    "# A utility function that returns true if x is perfect square\n",
    "def isPerfectSquare(x):\n",
    "    s = int(math.sqrt(x))\n",
    "    return s*s == x\n",
    " \n",
    "# Returns true if n is a Fibinacci Number, else false\n",
    "def isFibonacci(n):\n",
    " \n",
    "    # n is Fibinacci if one of 5*n*n + 4 or 5*n*n - 4 or both\n",
    "    # is a perferct square\n",
    "    return isPerfectSquare(5*n*n + 4) or isPerfectSquare(5*n*n - 4)\n",
    "    \n",
    "# A utility function to test above functions\n",
    "for i in range(1,11):\n",
    "     if (isFibonacci(i) == True):\n",
    "         print (i,\"is a Fibonacci Number\")\n",
    "     else:\n",
    "         print (i,\"is a not Fibonacci Number \")"
   ]
  },
  {
   "cell_type": "markdown",
   "metadata": {},
   "source": [
    "#### QUE : Python Program for Sum of squares of first n natural numbers"
   ]
  },
  {
   "cell_type": "code",
   "execution_count": 3,
   "metadata": {},
   "outputs": [
    {
     "name": "stdout",
     "output_type": "stream",
     "text": [
      "Sum of square of first 5 natural numbers is <built-in function sum>\n"
     ]
    }
   ],
   "source": [
    "def sqsum(n) :\n",
    "   sm = 0\n",
    "   for i in range(1, n+1) :\n",
    "      sm = sm + i**2\n",
    "   print(\"Sum of square of first\",n, \"natural numbers is\",sum)\n",
    "\n",
    "sqsum(5)"
   ]
  },
  {
   "cell_type": "markdown",
   "metadata": {},
   "source": [
    "#### Que : Python Program for cube sum of first n natural numbers"
   ]
  },
  {
   "cell_type": "code",
   "execution_count": 4,
   "metadata": {},
   "outputs": [
    {
     "name": "stdout",
     "output_type": "stream",
     "text": [
      "Sum of cubes of first 5 natural numbers is 225\n"
     ]
    }
   ],
   "source": [
    "def sqsum(n) :\n",
    "   sm = 0\n",
    "   for i in range(1, n+1) :\n",
    "      sm = sm + (i*i*i)\n",
    "   print(\"Sum of cubes of first\",n, \"natural numbers is\",sm)\n",
    "\n",
    "sqsum(5)"
   ]
  },
  {
   "cell_type": "markdown",
   "metadata": {},
   "source": [
    "#### Que : Python Program to find sum of array"
   ]
  },
  {
   "cell_type": "code",
   "execution_count": 5,
   "metadata": {},
   "outputs": [
    {
     "name": "stdout",
     "output_type": "stream",
     "text": [
      "<class 'numpy.ndarray'>\n"
     ]
    },
    {
     "data": {
      "text/plain": [
       "150"
      ]
     },
     "execution_count": 5,
     "metadata": {},
     "output_type": "execute_result"
    }
   ],
   "source": [
    "import numpy as np\n",
    "\n",
    "array = np.array([10,20,30,40,50])\n",
    "print(type(array))\n",
    "array.sum()"
   ]
  },
  {
   "cell_type": "markdown",
   "metadata": {},
   "source": [
    "#### Que : Python Program to find largest element in an array"
   ]
  },
  {
   "cell_type": "code",
   "execution_count": 6,
   "metadata": {},
   "outputs": [
    {
     "data": {
      "text/plain": [
       "50"
      ]
     },
     "execution_count": 6,
     "metadata": {},
     "output_type": "execute_result"
    }
   ],
   "source": [
    "array.max()"
   ]
  },
  {
   "cell_type": "markdown",
   "metadata": {},
   "source": [
    "#### Que : Python Program for array rotation"
   ]
  },
  {
   "cell_type": "code",
   "execution_count": 7,
   "metadata": {},
   "outputs": [
    {
     "name": "stdout",
     "output_type": "stream",
     "text": [
      "[[  0   1   2   3   4   5   6   7   8   9]\n",
      " [-11 -10  -9  -8  -7  -6  -5  -4  -3  -2]]\n",
      "(2, 10)\n",
      "[[  0 -11]\n",
      " [  1 -10]\n",
      " [  2  -9]\n",
      " [  3  -8]\n",
      " [  4  -7]\n",
      " [  5  -6]\n",
      " [  6  -5]\n",
      " [  7  -4]\n",
      " [  8  -3]\n",
      " [  9  -2]]\n",
      "(10, 2)\n"
     ]
    }
   ],
   "source": [
    "import numpy as np\n",
    "\n",
    "a = np.arange(0,10)\n",
    "b = np.arange(-11,-1)\n",
    "\n",
    "ar = np.array([a,b])\n",
    "\n",
    "print (ar)\n",
    "print (ar.shape)\n",
    "\n",
    "ar = np.rot90(ar, 3)\n",
    "print (np.fliplr(ar))\n",
    "print (ar.shape)"
   ]
  },
  {
   "cell_type": "markdown",
   "metadata": {},
   "source": [
    "#### Que : Python Program to Split the array and add the first part to the end"
   ]
  },
  {
   "cell_type": "code",
   "execution_count": 8,
   "metadata": {},
   "outputs": [],
   "source": [
    "def splitArr(arr, n, k): \n",
    "    for i in range(0, k): \n",
    "        x = arr[0]\n",
    "        for j in range(0, n-1):\n",
    "            arr[j] = arr[j + 1]\n",
    "          \n",
    "        arr[n-1] = x\n",
    "          "
   ]
  },
  {
   "cell_type": "code",
   "execution_count": 9,
   "metadata": {},
   "outputs": [
    {
     "name": "stdout",
     "output_type": "stream",
     "text": [
      "30 40 50 60 70 10 20 "
     ]
    }
   ],
   "source": [
    "arr = [10,20,30,40,50,60,70]\n",
    "n = len(arr)\n",
    "position = 2\n",
    "  \n",
    "splitArr(arr, n, position)\n",
    "  \n",
    "for i in range(0, n): \n",
    "    print(arr[i], end = ' ')"
   ]
  },
  {
   "cell_type": "code",
   "execution_count": null,
   "metadata": {},
   "outputs": [],
   "source": []
  },
  {
   "cell_type": "code",
   "execution_count": null,
   "metadata": {},
   "outputs": [],
   "source": []
  }
 ],
 "metadata": {
  "kernelspec": {
   "display_name": "Python 3",
   "language": "python",
   "name": "python3"
  },
  "language_info": {
   "codemirror_mode": {
    "name": "ipython",
    "version": 3
   },
   "file_extension": ".py",
   "mimetype": "text/x-python",
   "name": "python",
   "nbconvert_exporter": "python",
   "pygments_lexer": "ipython3",
   "version": "3.8.3"
  }
 },
 "nbformat": 4,
 "nbformat_minor": 4
}
