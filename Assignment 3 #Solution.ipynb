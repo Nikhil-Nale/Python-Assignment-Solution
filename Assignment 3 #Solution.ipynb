{
 "cells": [
  {
   "cell_type": "markdown",
   "metadata": {},
   "source": [
    "#### Que : Python Program for Find reminder of array multiplication divided by n"
   ]
  },
  {
   "cell_type": "code",
   "execution_count": 1,
   "metadata": {},
   "outputs": [
    {
     "name": "stdout",
     "output_type": "stream",
     "text": [
      "9\n"
     ]
    }
   ],
   "source": [
    "def findremainder(arr, lens, n):\n",
    "    mul = 1\n",
    " \n",
    "    # find the individual\n",
    "    # remainder and\n",
    "    # multiple with mul.\n",
    "    for i in arr:\n",
    "        mul = mul * (i % n)\n",
    " \n",
    "    return mul % n\n",
    " \n",
    " \n",
    "# Driven code\n",
    "arr = [100, 10, 5, 25, 35, 14]\n",
    "lens = len(arr)\n",
    "n = 11\n",
    " \n",
    "# print the remainder\n",
    "# of after multiple\n",
    "# all the numbers\n",
    "print(findremainder(arr, lens, n))"
   ]
  },
  {
   "cell_type": "markdown",
   "metadata": {},
   "source": [
    "#### Que : Python program to interchange first and last elements in a list"
   ]
  },
  {
   "cell_type": "code",
   "execution_count": 2,
   "metadata": {},
   "outputs": [
    {
     "name": "stdout",
     "output_type": "stream",
     "text": [
      "The list is :\n",
      "[10, 14, 5, 9, 56, 12]\n",
      "The function to swap the first and last elements is swapped\n",
      "[12, 14, 5, 9, 56, 10]\n"
     ]
    }
   ],
   "source": [
    "def list_swapping(my_list):\n",
    "   size_of_list = len(my_list)\n",
    "\n",
    "   temp = my_list[0]\n",
    "   my_list[0] = my_list[size_of_list - 1]\n",
    "   my_list[size_of_list - 1] = temp\n",
    "\n",
    "   return my_list\n",
    "\n",
    "my_list = [10, 14, 5, 9, 56, 12]\n",
    "print(\"The list is :\")\n",
    "print(my_list)\n",
    "print(\"The function to swap the first and last elements is swapped\")\n",
    "print(list_swapping(my_list))"
   ]
  },
  {
   "cell_type": "markdown",
   "metadata": {},
   "source": [
    "#### Que : Python program to swap two elements in a list"
   ]
  },
  {
   "cell_type": "code",
   "execution_count": 3,
   "metadata": {},
   "outputs": [
    {
     "name": "stdout",
     "output_type": "stream",
     "text": [
      "How many elements in list :- 5\n",
      "Please enter the Value of 1 Element :- 5\n",
      "Please enter the Value of 2 Element :- 6\n",
      "Please enter the Value of 3 Element :- 7\n",
      "Please enter the Value of 4 Element :- 8\n",
      "Please enter the Value of 5 Element :- 9\n",
      "\n",
      "List before swapping of elements :-\n",
      " [5, 6, 7, 8, 9]\n",
      "Enter the position 1 of element, which you want to swap :- 1\n",
      "Enter the position 1 of element, which you want to swap :- 4\n",
      "List after swapping of elements :-\n",
      " [8, 6, 7, 5, 9]\n"
     ]
    }
   ],
   "source": [
    "NumList = []\n",
    " \n",
    "#how many elements in list\n",
    "Number = int(input(\"How many elements in list :- \"))\n",
    "     \n",
    "for i in range(1, Number + 1):\n",
    "    value = int(input(\"Please enter the Value of %d Element :- \" %i))\n",
    "    NumList.append(value)\n",
    " \n",
    "#print list before swapping\n",
    "print(\"\\nList before swapping of elements :-\\n\",NumList)\n",
    " \n",
    "#take position to swap\n",
    "position1 = int(input(\"Enter the position 1 of element, which you want to swap :- \"))\n",
    "position2 = int(input(\"Enter the position 1 of element, which you want to swap :- \"))\n",
    " \n",
    "# Swap function \n",
    "def swapPositions(list, pos1, pos2): \n",
    "       \n",
    "    list[pos1], list[pos2] = list[pos2], list[pos1] \n",
    "    return list\n",
    "   \n",
    "print(\"List after swapping of elements :-\\n\",swapPositions(NumList, position1-1, position2-1)) \n"
   ]
  },
  {
   "cell_type": "markdown",
   "metadata": {},
   "source": [
    "#### Que : write a program to find length of list"
   ]
  },
  {
   "cell_type": "code",
   "execution_count": 4,
   "metadata": {},
   "outputs": [
    {
     "data": {
      "text/plain": [
       "5"
      ]
     },
     "execution_count": 4,
     "metadata": {},
     "output_type": "execute_result"
    }
   ],
   "source": [
    "lst = [2,3,4,5,6]\n",
    "len(lst)"
   ]
  },
  {
   "cell_type": "markdown",
   "metadata": {},
   "source": [
    "#### Que : write a program to check if element exists in list"
   ]
  },
  {
   "cell_type": "code",
   "execution_count": 5,
   "metadata": {},
   "outputs": [
    {
     "name": "stdout",
     "output_type": "stream",
     "text": [
      "Element Exists\n"
     ]
    }
   ],
   "source": [
    "test_list = [ 1, 6, 3, 5, 3, 4 ]\n",
    " \n",
    "\n",
    "for i in test_list:\n",
    "    if(i == 6) :\n",
    "        print (\"Element Exists\")"
   ]
  },
  {
   "cell_type": "markdown",
   "metadata": {},
   "source": [
    "#### Que : write a program to clear a list in Python"
   ]
  },
  {
   "cell_type": "code",
   "execution_count": 6,
   "metadata": {},
   "outputs": [],
   "source": [
    "fruits = ['apple', 'banana', 'cherry', 'orange']\n",
    "\n",
    "fruits.clear()"
   ]
  },
  {
   "cell_type": "code",
   "execution_count": 7,
   "metadata": {},
   "outputs": [
    {
     "data": {
      "text/plain": [
       "[]"
      ]
     },
     "execution_count": 7,
     "metadata": {},
     "output_type": "execute_result"
    }
   ],
   "source": [
    "fruits"
   ]
  },
  {
   "cell_type": "markdown",
   "metadata": {},
   "source": [
    "#### Que : write a program to Reversing a List"
   ]
  },
  {
   "cell_type": "code",
   "execution_count": 8,
   "metadata": {},
   "outputs": [
    {
     "name": "stdout",
     "output_type": "stream",
     "text": [
      "[15, 14, 13, 12, 11, 10]\n"
     ]
    }
   ],
   "source": [
    "def Reverse(lst):\n",
    "    return [ele for ele in reversed(lst)]\n",
    "      \n",
    "# Driver Code\n",
    "lst = [10, 11, 12, 13, 14, 15]\n",
    "print(Reverse(lst))"
   ]
  },
  {
   "cell_type": "markdown",
   "metadata": {},
   "source": [
    "#### Que : write a program to find sum of elements in list"
   ]
  },
  {
   "cell_type": "code",
   "execution_count": 9,
   "metadata": {},
   "outputs": [
    {
     "name": "stdout",
     "output_type": "stream",
     "text": [
      "19\n"
     ]
    }
   ],
   "source": [
    "numList = [1,2,3,6,7]\n",
    "\n",
    "\n",
    "\n",
    "added = 0\n",
    "for i in range(len(numList)):\n",
    "    added+=numList[i]\n",
    "print(added)"
   ]
  },
  {
   "cell_type": "markdown",
   "metadata": {},
   "source": [
    "#### Que : write a program to Multiply all numbers in the list"
   ]
  },
  {
   "cell_type": "code",
   "execution_count": 10,
   "metadata": {},
   "outputs": [
    {
     "name": "stdout",
     "output_type": "stream",
     "text": [
      "6\n"
     ]
    }
   ],
   "source": [
    "def mulList(myList) :\n",
    "    result = 1\n",
    "    for x in myList:\n",
    "         result = result * x\n",
    "    return result\n",
    "\n",
    "lst = [1, 2, 3]\n",
    "\n",
    "print(mulList(lst))\n"
   ]
  },
  {
   "cell_type": "code",
   "execution_count": null,
   "metadata": {},
   "outputs": [],
   "source": []
  },
  {
   "cell_type": "code",
   "execution_count": null,
   "metadata": {},
   "outputs": [],
   "source": []
  },
  {
   "cell_type": "code",
   "execution_count": null,
   "metadata": {},
   "outputs": [],
   "source": []
  }
 ],
 "metadata": {
  "kernelspec": {
   "display_name": "Python 3",
   "language": "python",
   "name": "python3"
  },
  "language_info": {
   "codemirror_mode": {
    "name": "ipython",
    "version": 3
   },
   "file_extension": ".py",
   "mimetype": "text/x-python",
   "name": "python",
   "nbconvert_exporter": "python",
   "pygments_lexer": "ipython3",
   "version": "3.8.3"
  }
 },
 "nbformat": 4,
 "nbformat_minor": 4
}
